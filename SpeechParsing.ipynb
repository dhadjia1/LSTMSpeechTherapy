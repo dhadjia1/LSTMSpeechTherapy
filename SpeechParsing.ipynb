{
 "cells": [
  {
   "cell_type": "code",
   "execution_count": null,
   "metadata": {
    "collapsed": true
   },
   "outputs": [],
   "source": []
  },
  {
   "cell_type": "code",
   "execution_count": 1,
   "metadata": {
    "collapsed": true
   },
   "outputs": [],
   "source": [
    "from lxml.html import parse\n",
    "\n",
    "def unpack_speech(sp_url,tag):\n",
    "    try:\n",
    "        sp_parse = parse(sp_url)\n",
    "        sp_data = sp_parse.getroot()\n",
    "        speech_class = sp_data.find_class(tag)\n",
    "        return speech_class[0].text_content(), sp_url\n",
    "    except:\n",
    "        return [],None\n",
    "\n",
    "#if __name__ == '__main__':\n",
    "url = \"http://www.artofmanliness.com/2008/08/01/the-35-greatest-speeches-in-history/\"\n",
    "parsed = parse(url)\n",
    "doc = parsed.getroot()\n",
    "\n",
    "# Acquire urls of speeches\n",
    "speech_header_tags = doc.findall('.//h3')\n",
    "speech_urls = []\n",
    "for sht in speech_header_tags:\n",
    "    speech_tags = sht.findall('.//a')\n",
    "    for st in speech_tags:\n",
    "        speech_urls.append(st.get('href'))\n",
    "\n",
    "# Acquire speeches from url speech list\n",
    "speeches = []; valid_urls = []; save_prefix = []\n",
    "for i in range(0,len(speech_urls)):\n",
    "    speech, valid = unpack_speech(speech_urls[i],'post-content')\n",
    "    if valid != None:\n",
    "        valid_urls.append(valid)\n",
    "        split_url = valid.split('/')\n",
    "        save_prefix.append(split_url[3])\n",
    "        speeches.append(speech)\n"
   ]
  },
  {
   "cell_type": "code",
   "execution_count": 2,
   "metadata": {
    "collapsed": true
   },
   "outputs": [],
   "source": [
    "# Saving\n",
    "f = open('valid_urls.txt','w')\n",
    "for vu in valid_urls:\n",
    "    f.write(vu)\n",
    "    f.write('\\n')\n",
    "f.close()\n",
    "\n",
    "f = open('filenames.txt','w')\n",
    "for pre in save_prefix:\n",
    "    f.write(pre)\n",
    "    f.write('\\n')\n",
    "f.close()\n",
    "\n",
    "directory = 'speeches'\n",
    "for i in range(0,len(speeches)):\n",
    "    fn = directory + '/' + save_prefix[i] + '.txt'\n",
    "    f = open(fn,'w')\n",
    "    f.write(speeches[i].encode('ascii','ignore').decode('ascii').strip('\\n'))\n",
    "    f.close()"
   ]
  },
  {
   "cell_type": "code",
   "execution_count": null,
   "metadata": {
    "collapsed": true,
    "scrolled": true
   },
   "outputs": [],
   "source": []
  }
 ],
 "metadata": {
  "anaconda-cloud": {},
  "kernelspec": {
   "display_name": "Python 3",
   "language": "python",
   "name": "python3"
  },
  "language_info": {
   "codemirror_mode": {
    "name": "ipython",
    "version": 3
   },
   "file_extension": ".py",
   "mimetype": "text/x-python",
   "name": "python",
   "nbconvert_exporter": "python",
   "pygments_lexer": "ipython3",
   "version": "3.5.2"
  }
 },
 "nbformat": 4,
 "nbformat_minor": 1
}
