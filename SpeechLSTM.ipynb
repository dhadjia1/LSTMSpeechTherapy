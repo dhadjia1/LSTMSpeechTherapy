{
 "cells": [
  {
   "cell_type": "code",
   "execution_count": null,
   "metadata": {},
   "outputs": [],
   "source": [
    "import numpy\n",
    "from keras.models import Sequential\n",
    "from keras.layers import Dense\n",
    "from keras.layers import Dropout\n",
    "from keras.layers import LSTM\n",
    "from keras.callbacks import ModelCheckpoint\n",
    "from keras.utils import np_utils\n",
    "\n",
    "\n"
   ]
  },
  {
   "cell_type": "code",
   "execution_count": 19,
   "metadata": {},
   "outputs": [],
   "source": [
    "# Read in speeches\n",
    "\n",
    "file = open('filenames.txt')\n",
    "fnames = []\n",
    "for line in file:\n",
    "    line = line.rsplit('\\n')\n",
    "    fnames.append(line[0])\n",
    "file.close()\n",
    "\n",
    "directory = 'speeches'\n",
    "raw_txt = ''\n",
    "for fname in fnames:\n",
    "    fn = directory + '/' + fname + '.txt'\n",
    "    f = open(fn,'r')\n",
    "    txt = f.read()\n",
    "    txt = txt.replace('Brett & Kate McKay','')\n",
    "    txt = txt.replace('July 31, 2008','')\n",
    "    raw_txt = raw_txt + txt\n",
    "raw_txt = raw_txt.lower() # send to lower case\n",
    "whitelist = set('abcdefghijklmnopqrstuvwxyz 1234567890.,;-\\n')\n",
    "raw_txt = ''.join(filter(whitelist.__contains__,raw_txt))\n"
   ]
  },
  {
   "cell_type": "code",
   "execution_count": 25,
   "metadata": {},
   "outputs": [
    {
     "name": "stdout",
     "output_type": "stream",
     "text": [
      "Total characteres:  347790\n",
      "Total vocab:  42\n"
     ]
    }
   ],
   "source": [
    "# Get 'vocabulary' that the machine has to learn. In addition, create a dictionary that maps chars to ints\n",
    "chars = sorted(list(set(raw_txt)))\n",
    "char_to_int = dict((c,i) for i,c in enumerate(chars))\n",
    "n_chars = len(raw_txt)\n",
    "n_vocab = len(chars)\n",
    "print(\"Total characteres: \", n_chars)\n",
    "print(\"Total vocab: \", n_vocab)\n"
   ]
  },
  {
   "cell_type": "code",
   "execution_count": 21,
   "metadata": {},
   "outputs": [
    {
     "name": "stdout",
     "output_type": "stream",
     "text": [
      "Total patterns: 347662\n"
     ]
    }
   ],
   "source": [
    "# Extract sequence patterns. LSTM will be solving f([a1,a2,...,an]) = b1 \n",
    "# , where each ai is a character and b1 is the output character\n",
    "seq_length = 128\n",
    "dataX = []\n",
    "dataY = []\n",
    "for i in range(0, n_chars-seq_length,1):\n",
    "    seq_in = raw_txt[i:i+seq_length]\n",
    "    seq_out = raw_txt[i+seq_length]\n",
    "    dataX.append([char_to_int[char] for char in seq_in])\n",
    "    dataY.append(char_to_int[seq_out])\n",
    "n_patterns = len(dataX)\n",
    "print (\"Total patterns:\", n_patterns)"
   ]
  },
  {
   "cell_type": "code",
   "execution_count": 22,
   "metadata": {},
   "outputs": [],
   "source": [
    "# Reshape patterns into numpy 3D matrix\n",
    "X = numpy.reshape(dataX,(n_patterns,seq_length,1))\n",
    "X = X / float(n_vocab)\n",
    "# hot-encoding for output. In the algorithm, output will be determined based on max probability\n",
    "y = np_utils.to_categorical(dataY)\n"
   ]
  },
  {
   "cell_type": "code",
   "execution_count": 23,
   "metadata": {},
   "outputs": [],
   "source": [
    "# Create the LSTM model\n",
    "model = Sequential()\n",
    "model.add(LSTM(256,input_shape=(X.shape[1],X.shape[2]), return_sequences=True))\n",
    "model.add(Dropout(0.2))\n",
    "model.add(LSTM(256))\n",
    "model.add(Dropout(0.2))\n",
    "model.add(Dense(y.shape[1],activation='softmax'))\n",
    "model.compile(loss='categorical_crossentropy',optimizer='adam')\n"
   ]
  },
  {
   "cell_type": "code",
   "execution_count": 24,
   "metadata": {
    "collapsed": true
   },
   "outputs": [],
   "source": [
    "filepath=\"weights-{epoch:02d}-{loss:.4f}.hdf5\"\n",
    "checkpoint=ModelCheckpoint(filepath,monitor='loss',verbose=1,save_best_only=True,mode='min')\n",
    "callbacks_list = [checkpoint]"
   ]
  },
  {
   "cell_type": "code",
   "execution_count": null,
   "metadata": {
    "scrolled": true
   },
   "outputs": [],
   "source": [
    "model.fit(X,y,epochs=50,batch_size=64, callbacks=callbacks_list)"
   ]
  },
  {
   "cell_type": "code",
   "execution_count": null,
   "metadata": {},
   "outputs": [],
   "source": [
    "# Load in network with newly trained weights\n",
    "filename = \"weights-improvement-02-2.3400.hdf5\"\n",
    "model.load_weights(filename)\n",
    "model.compile(loss='categorical_crossentropy',optimizer='adam')\n",
    "int_to_char = dict((i,c) for i,c in enumerate(chars))"
   ]
  },
  {
   "cell_type": "code",
   "execution_count": null,
   "metadata": {},
   "outputs": [],
   "source": [
    "import sys\n",
    "\n",
    "# Lets generate some sentences \n",
    "start = numpy.random.randint(0,len(dataX)-1)\n",
    "pattern = dataX[start]\n",
    "print(\"Seed:\")\n",
    "print(\"\\\"\",''.join([int_to_char[value] for value in pattern]),\"\\\"\")\n",
    "for i in range(0,1000):\n",
    "    x = numpy.reshape(pattern, (1, len(pattern),1))\n",
    "    x = x / float(n_vocab)\n",
    "    prediction = model.predict(x,verbose=0)\n",
    "    index = numpy.argmax(prediction)\n",
    "    result = int_to_char[index]\n",
    "    seq_in = [int_to_char[value] for value in pattern]\n",
    "    sys.stdout.write(result)\n",
    "    pattern.append(index)\n",
    "    pattern = pattern[1:len(pattern)]\n",
    "print(\"\\nDone!\")"
   ]
  },
  {
   "cell_type": "code",
   "execution_count": null,
   "metadata": {
    "collapsed": true
   },
   "outputs": [],
   "source": []
  }
 ],
 "metadata": {
  "kernelspec": {
   "display_name": "Python 3",
   "language": "python",
   "name": "python3"
  },
  "language_info": {
   "codemirror_mode": {
    "name": "ipython",
    "version": 3
   },
   "file_extension": ".py",
   "mimetype": "text/x-python",
   "name": "python",
   "nbconvert_exporter": "python",
   "pygments_lexer": "ipython3",
   "version": "3.5.2"
  }
 },
 "nbformat": 4,
 "nbformat_minor": 1
}
